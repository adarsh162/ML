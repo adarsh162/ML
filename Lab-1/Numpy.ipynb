{
  "nbformat": 4,
  "nbformat_minor": 0,
  "metadata": {
    "colab": {
      "provenance": []
    },
    "kernelspec": {
      "name": "python3",
      "display_name": "Python 3"
    },
    "language_info": {
      "name": "python"
    }
  },
  "cells": [
    {
      "cell_type": "code",
      "execution_count": 1,
      "metadata": {
        "colab": {
          "base_uri": "https://localhost:8080/"
        },
        "id": "JRxsP5BEOtlF",
        "outputId": "a87a7c65-aa1d-48bf-b328-4009743b0a5d"
      },
      "outputs": [
        {
          "output_type": "execute_result",
          "data": {
            "text/plain": [
              "array([[ 0,  1,  2,  3],\n",
              "       [ 4,  5,  6,  7],\n",
              "       [ 8,  9, 10, 11],\n",
              "       [12, 13, 14, 15],\n",
              "       [16, 17, 18, 19]])"
            ]
          },
          "metadata": {},
          "execution_count": 1
        }
      ],
      "source": [
        "#1Create Two numpy array of size 4 X 5 and 5 X 4.\n",
        "import numpy as np\n",
        "import random as rand\n",
        "\n",
        "arra1=np.array(np.arange(0,20).reshape(5,4))\n",
        "arra2=np.array(np.arange(0,20).reshape(4,5))\n",
        "arra1"
      ]
    },
    {
      "cell_type": "code",
      "source": [
        "arra2"
      ],
      "metadata": {
        "colab": {
          "base_uri": "https://localhost:8080/"
        },
        "id": "0es5D7tAO46I",
        "outputId": "b7816df1-489b-40d1-c9cc-76489eb978d1"
      },
      "execution_count": 2,
      "outputs": [
        {
          "output_type": "execute_result",
          "data": {
            "text/plain": [
              "array([[ 0,  1,  2,  3,  4],\n",
              "       [ 5,  6,  7,  8,  9],\n",
              "       [10, 11, 12, 13, 14],\n",
              "       [15, 16, 17, 18, 19]])"
            ]
          },
          "metadata": {},
          "execution_count": 2
        }
      ]
    },
    {
      "cell_type": "code",
      "source": [
        "#2.Randomly Initalize that array\n",
        "array=np.random.randint(1, 100, size=(4, 5))\n",
        "array"
      ],
      "metadata": {
        "colab": {
          "base_uri": "https://localhost:8080/"
        },
        "id": "Vf9igsrfO66x",
        "outputId": "7e65586c-b6c1-4e04-9e12-a6da38e18f0e"
      },
      "execution_count": 3,
      "outputs": [
        {
          "output_type": "execute_result",
          "data": {
            "text/plain": [
              "array([[61, 90, 14, 10, 83],\n",
              "       [86, 38,  2, 24,  4],\n",
              "       [45, 40, 79, 38, 22],\n",
              "       [43, 86, 76, 29, 25]])"
            ]
          },
          "metadata": {},
          "execution_count": 3
        }
      ]
    },
    {
      "cell_type": "code",
      "source": [
        "#3.Perform matrix multiplication\n",
        "x = np.array([[1,2],[3,4]])\n",
        "y = np.array([[5,6],[7,8]])\n",
        "print(np.dot(x, y))\n",
        "print(np.dot(arra1,arra2))"
      ],
      "metadata": {
        "colab": {
          "base_uri": "https://localhost:8080/"
        },
        "id": "2BbWutD4O_wr",
        "outputId": "f6a3bb76-38b0-4043-f8c5-1a19bd43a8cd"
      },
      "execution_count": 4,
      "outputs": [
        {
          "output_type": "stream",
          "name": "stdout",
          "text": [
            "[[19 22]\n",
            " [43 50]]\n",
            "[[ 70  76  82  88  94]\n",
            " [190 212 234 256 278]\n",
            " [310 348 386 424 462]\n",
            " [430 484 538 592 646]\n",
            " [550 620 690 760 830]]\n"
          ]
        }
      ]
    },
    {
      "cell_type": "code",
      "source": [
        "#4.4) Perform elementwise matrix multiplication\n",
        "print(np.multiply(arra1,arra1))"
      ],
      "metadata": {
        "colab": {
          "base_uri": "https://localhost:8080/"
        },
        "id": "YGNFdgvJPHad",
        "outputId": "b5c02c19-e982-44c3-f16d-ba9932cb9b97"
      },
      "execution_count": 5,
      "outputs": [
        {
          "output_type": "stream",
          "name": "stdout",
          "text": [
            "[[  0   1   4   9]\n",
            " [ 16  25  36  49]\n",
            " [ 64  81 100 121]\n",
            " [144 169 196 225]\n",
            " [256 289 324 361]]\n"
          ]
        }
      ]
    },
    {
      "cell_type": "code",
      "source": [
        "#5.Find mean, median of the first matrix.\n",
        "np.mean(arra1)"
      ],
      "metadata": {
        "colab": {
          "base_uri": "https://localhost:8080/"
        },
        "id": "NhIV-OVKPL-J",
        "outputId": "2c1cbc6f-b764-4f64-b961-96950b8f82be"
      },
      "execution_count": 6,
      "outputs": [
        {
          "output_type": "execute_result",
          "data": {
            "text/plain": [
              "9.5"
            ]
          },
          "metadata": {},
          "execution_count": 6
        }
      ]
    },
    {
      "cell_type": "code",
      "source": [
        "np.mean(arra1,axis=0)\n",
        "np.mean(arra1,axis=1)\n",
        "np.median(arra1)\n",
        "\n",
        "np.median(arra1,axis=0)\n",
        "np.median(arra1,axis=1)"
      ],
      "metadata": {
        "colab": {
          "base_uri": "https://localhost:8080/"
        },
        "id": "EQUtx48gPPaU",
        "outputId": "810cbfdc-f5c8-436a-c68b-f070061bd6c9"
      },
      "execution_count": 7,
      "outputs": [
        {
          "output_type": "execute_result",
          "data": {
            "text/plain": [
              "array([ 1.5,  5.5,  9.5, 13.5, 17.5])"
            ]
          },
          "metadata": {},
          "execution_count": 7
        }
      ]
    },
    {
      "cell_type": "code",
      "source": [
        "#6.Get the transpose of that Matrix that you created. Create a square matrix and find its deter-\n",
        "#minant.\n",
        "print(arra1.T)\n",
        "# square matrix 3*3\n",
        "array3=np.array([[1,2,3],[4,5,6],[7,8,9]])\n",
        "array3\n",
        "np.linalg.det(array3)"
      ],
      "metadata": {
        "colab": {
          "base_uri": "https://localhost:8080/"
        },
        "id": "nKnCRaV2P0B_",
        "outputId": "856883e4-34c8-4b08-c86b-3688a941bf18"
      },
      "execution_count": 10,
      "outputs": [
        {
          "output_type": "stream",
          "name": "stdout",
          "text": [
            "[[ 0  4  8 12 16]\n",
            " [ 1  5  9 13 17]\n",
            " [ 2  6 10 14 18]\n",
            " [ 3  7 11 15 19]]\n"
          ]
        },
        {
          "output_type": "execute_result",
          "data": {
            "text/plain": [
              "0.0"
            ]
          },
          "metadata": {},
          "execution_count": 10
        }
      ]
    },
    {
      "cell_type": "code",
      "source": [
        "#Obtain each row in the second column of the first array.\n",
        "array3[:,1]\n"
      ],
      "metadata": {
        "colab": {
          "base_uri": "https://localhost:8080/"
        },
        "id": "9HinANAaQAyn",
        "outputId": "8839bd8c-f4c4-4045-a26d-bc1adcbc4f0f"
      },
      "execution_count": 16,
      "outputs": [
        {
          "output_type": "execute_result",
          "data": {
            "text/plain": [
              "array([2, 5, 8])"
            ]
          },
          "metadata": {},
          "execution_count": 16
        }
      ]
    },
    {
      "cell_type": "code",
      "source": [
        "nparrayCentered = arra1.T - np.mean(arra1, axis=1) \n",
        "# Remove the mean for␣\n",
        "##,→each row\n",
        "nparrayCentered = nparrayCentered.T #\n",
        "nparrayCentered"
      ],
      "metadata": {
        "colab": {
          "base_uri": "https://localhost:8080/"
        },
        "id": "RjY2MJkgQu46",
        "outputId": "dd9a4baf-d0ad-47af-ecf4-55fb144b46b9"
      },
      "execution_count": 15,
      "outputs": [
        {
          "output_type": "execute_result",
          "data": {
            "text/plain": [
              "array([[-1.5, -0.5,  0.5,  1.5],\n",
              "       [-1.5, -0.5,  0.5,  1.5],\n",
              "       [-1.5, -0.5,  0.5,  1.5],\n",
              "       [-1.5, -0.5,  0.5,  1.5],\n",
              "       [-1.5, -0.5,  0.5,  1.5]])"
            ]
          },
          "metadata": {},
          "execution_count": 15
        }
      ]
    }
  ]
}