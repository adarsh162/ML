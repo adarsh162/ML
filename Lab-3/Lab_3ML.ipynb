{
  "nbformat": 4,
  "nbformat_minor": 0,
  "metadata": {
    "colab": {
      "provenance": []
    },
    "kernelspec": {
      "name": "python3",
      "display_name": "Python 3"
    },
    "language_info": {
      "name": "python"
    }
  },
  "cells": [
    {
      "cell_type": "code",
      "execution_count": 1,
      "metadata": {
        "colab": {
          "base_uri": "https://localhost:8080/"
        },
        "id": "ArGtwBqjWO2h",
        "outputId": "3bf6d290-16aa-47d3-b9fc-d2fa31039776"
      },
      "outputs": [
        {
          "output_type": "stream",
          "name": "stdout",
          "text": [
            "Weather: [2 2 0 1 1 1 0 2 2 1 2 0 0 1]\n",
            "Temp: [1 1 1 2 0 0 0 2 0 2 2 2 1 2]\n",
            "Play: [0 0 1 1 1 0 1 0 1 1 1 1 1 0]\n"
          ]
        }
      ],
      "source": [
        "from sklearn import preprocessing\n",
        "from sklearn.naive_bayes import GaussianNB, MultinomialNB\n",
        "\n",
        "weather = ['Sunny', 'Sunny', 'Overcast', 'Rainy', 'Rainy','Rainy', 'Overcast',\n",
        "'Sunny', 'Sunny', 'Rainy', 'Sunny', 'Overcast', 'Overcast', 'Rainy']\n",
        "\n",
        "temp = ['Hot','Hot','Hot','Mild','Cool','Cool','Cool','Mild',\n",
        "'Cool','Mild','Mild','Mild','Hot','Mild']\n",
        "\n",
        "play=['No','No','Yes','Yes','Yes','No','Yes','No','Yes',\n",
        "'Yes','Yes','Yes','Yes','No']\n",
        "\n",
        "#creating labelEncoder\n",
        "le = preprocessing.LabelEncoder()\n",
        "# Converting string labels into numbers.\n",
        "weather_encoded=le.fit_transform(weather)\n",
        "print(\"Weather:\" ,weather_encoded)\n",
        "temp_encoded=le.fit_transform(temp)\n",
        "label=le.fit_transform(play)\n",
        "print(\"Temp:\",temp_encoded)\n",
        "print(\"Play:\",label)\n"
      ]
    },
    {
      "cell_type": "code",
      "source": [
        "features=tuple(zip(weather_encoded,temp_encoded))\n",
        "print(\"Features:\",features)"
      ],
      "metadata": {
        "colab": {
          "base_uri": "https://localhost:8080/"
        },
        "id": "V8PU4HG6Wgq5",
        "outputId": "c5ee7986-b94a-4e99-ade8-a6162a35ace1"
      },
      "execution_count": 2,
      "outputs": [
        {
          "output_type": "stream",
          "name": "stdout",
          "text": [
            "Features: ((2, 1), (2, 1), (0, 1), (1, 2), (1, 0), (1, 0), (0, 0), (2, 2), (2, 0), (1, 2), (2, 2), (0, 2), (0, 1), (1, 2))\n"
          ]
        }
      ]
    },
    {
      "cell_type": "code",
      "source": [
        "#Create a Classifier\n",
        "model=MultinomialNB()\n",
        "# Train the model using the training sets\n",
        "model.fit(features,label)"
      ],
      "metadata": {
        "colab": {
          "base_uri": "https://localhost:8080/"
        },
        "id": "XuVvm4TgWrO4",
        "outputId": "1e2ac9bd-f8d6-44de-843f-14cd0756308b"
      },
      "execution_count": 3,
      "outputs": [
        {
          "output_type": "execute_result",
          "data": {
            "text/plain": [
              "MultinomialNB()"
            ]
          },
          "metadata": {},
          "execution_count": 3
        }
      ]
    },
    {
      "cell_type": "code",
      "source": [
        "#Predict Output\n",
        "#1.5.1\n",
        "predicted= model.predict([[0,1]]) # 0:Overcast, 1:Hot\n",
        "print(\"Predicted Value:\", predicted)"
      ],
      "metadata": {
        "colab": {
          "base_uri": "https://localhost:8080/"
        },
        "id": "Xur1d1LdWtkP",
        "outputId": "9e3abb29-ede4-4657-dbc2-33df72875c22"
      },
      "execution_count": 4,
      "outputs": [
        {
          "output_type": "stream",
          "name": "stdout",
          "text": [
            "Predicted Value: [1]\n"
          ]
        }
      ]
    },
    {
      "cell_type": "code",
      "source": [
        "#Predict Output\n",
        "#1.5.2\n",
        "predicted= model.predict([[2,2]]) # 2:Sunny, 2:Mild\n",
        "print(\"Predicted Value:\", predicted)\n"
      ],
      "metadata": {
        "colab": {
          "base_uri": "https://localhost:8080/"
        },
        "id": "GY41pm4tXgnl",
        "outputId": "704fb17f-aab8-4d39-c4c0-5876c91d92ff"
      },
      "execution_count": 5,
      "outputs": [
        {
          "output_type": "stream",
          "name": "stdout",
          "text": [
            "Predicted Value: [1]\n"
          ]
        }
      ]
    },
    {
      "cell_type": "code",
      "source": [
        "import numpy as np\n",
        "import pandas as pd\n",
        "from sklearn.naive_bayes import CategoricalNB\n",
        "from sklearn.naive_bayes import GaussianNB\n",
        "from sklearn.preprocessing import LabelEncoder\n",
        "from sklearn.model_selection import train_test_split\n",
        "from sklearn.metrics import confusion_matrix\n",
        "from sklearn.metrics import precision_score\n",
        "from sklearn.metrics import recall_score\n",
        "from sklearn.metrics import accuracy_score\n",
        "\n",
        "data = pd.read_csv(\"Dataset3.csv\")\n",
        "\n",
        "labels = data['Class']\n",
        "\n",
        "labelEncoder = LabelEncoder()\n",
        "outlook = data['Outlook']\n",
        "temp = data['Temp']\n",
        "wind = data['Wind']\n",
        "humidity = data['Humidity']\n",
        "\n",
        "encodeWeather = labelEncoder.fit_transform(outlook)\n",
        "# print(outlook, encodeWeather)\n",
        "\n",
        "encodeTemperature = labelEncoder.fit_transform(temp)\n",
        "# print(temp, encodeTemperature)\n",
        "\n",
        "encodeWind = labelEncoder.fit_transform(wind)\n",
        "# print(wind, encodeWind)\n",
        "\n",
        "encodeHumidity = labelEncoder.fit_transform(humidity)\n",
        "# print(humidity, encodeHumidity)\n",
        "\n",
        "encodeLabels = labelEncoder.fit_transform(labels)\n",
        "\n",
        "features = tuple(zip(encodeWeather, encodeTemperature, encodeWind, encodeHumidity))\n",
        "\n",
        "trainFeatures, testFeatures, trainLabels, testLabels = train_test_split(features, encodeLabels, test_size=0.5, random_state=140)\n",
        "\n",
        "model = CategoricalNB()\n",
        "model.fit(trainFeatures, trainLabels)\n",
        "\n",
        "# print(testFeatures, testLabels)\n",
        "\n",
        "print(model.predict([(1, 2, 0, 0)]))\n",
        "print(model.predict([(2, 0, 1, 2)]))\n",
        "\n",
        "testPrediction = model.predict(testFeatures)\n",
        "print(testPrediction)\n",
        "confusion_matrix(testLabels, testPrediction)\n",
        "\n",
        "print('Accuracy {}'.format(accuracy_score(testLabels, testPrediction)))\n",
        "print('Precision {}'.format(precision_score(testLabels, testPrediction)))\n",
        "print('Recall {}'.format(recall_score(testLabels, testPrediction)))"
      ],
      "metadata": {
        "colab": {
          "base_uri": "https://localhost:8080/"
        },
        "id": "VRQcYvoqYlNh",
        "outputId": "ea0bade2-9325-4512-a4ff-f585a2b8e2fb"
      },
      "execution_count": 9,
      "outputs": [
        {
          "output_type": "stream",
          "name": "stdout",
          "text": [
            "[1]\n",
            "[1]\n",
            "[1 1 1 1 1 0 1]\n",
            "Accuracy 0.5714285714285714\n",
            "Precision 0.5\n",
            "Recall 1.0\n"
          ]
        }
      ]
    },
    {
      "cell_type": "code",
      "source": [
        "import numpy as np\n",
        "import pandas as pd\n",
        "from sklearn.naive_bayes import CategoricalNB\n",
        "from sklearn.naive_bayes import GaussianNB\n",
        "from sklearn.preprocessing import LabelEncoder\n",
        "from sklearn.model_selection import train_test_split\n",
        "\n",
        "data = pd.read_csv(\"/content/drive/MyDrive/Colab Notebooks/data.csv\")\n",
        "\n",
        "labels = data['diagnosis'].values\n",
        "labelEncoder = LabelEncoder()\n",
        "\n",
        "encodedLabels = labelEncoder.fit_transform(labels)\n",
        "\n",
        "features = pd.read_csv(\"/content/drive/MyDrive/Colab Notebooks/data.csv\", usecols=['radius_mean', 'perimeter_mean', 'area_mean'])\n",
        "features.radius_mean.value_counts().sort_values(ascending=False)\n",
        "encoded = pd.get_dummies(features, columns = ['radius_mean'])\n",
        "\n",
        "trainFeatures, testFeatures, trainLabels, testLabels = train_test_split(features, encodedLabels, test_size=0.5, random_state=140)\n",
        "\n",
        "model = GaussianNB()\n",
        "model.fit(trainFeatures, trainLabels)\n",
        "\n",
        "testPrediction = model.predict(testFeatures)\n",
        "confusion_matrix(testLabels, testPrediction)\n",
        "\n",
        "print('Accuracy {}'.format(accuracy_score(testLabels, testPrediction)))\n",
        "print('Precision {}'.format(precision_score(testLabels, testPrediction)))\n",
        "print('Recall {}'.format(recall_score(testLabels, testPrediction)))"
      ],
      "metadata": {
        "id": "nSm5rNrwYa73"
      },
      "execution_count": null,
      "outputs": []
    }
  ]
}